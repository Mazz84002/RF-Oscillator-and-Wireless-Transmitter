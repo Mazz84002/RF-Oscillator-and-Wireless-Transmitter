{
 "cells": [
  {
   "cell_type": "code",
   "execution_count": 1,
   "metadata": {},
   "outputs": [],
   "source": [
    "import numpy as np"
   ]
  },
  {
   "cell_type": "code",
   "execution_count": 17,
   "metadata": {},
   "outputs": [],
   "source": [
    "Vp = 1.6\n",
    "Vrms = Vp/(np.sqrt(2))\n",
    "\n",
    "I = (3.3 + 4.6)*1e-3\n",
    "Vcc = 8*2"
   ]
  },
  {
   "cell_type": "code",
   "execution_count": 18,
   "metadata": {},
   "outputs": [
    {
     "name": "stdout",
     "output_type": "stream",
     "text": [
      "20.253164556962027\n"
     ]
    }
   ],
   "source": [
    "Pin = Vcc*I\n",
    "Pout = (Vrms**2)/50\n",
    "\n",
    "eta = Pout/Pin*100\n",
    "print(eta)"
   ]
  },
  {
   "cell_type": "code",
   "execution_count": 13,
   "metadata": {},
   "outputs": [],
   "source": [
    "Vp = 161e-3\n",
    "Vrms = Vp/(np.sqrt(2))\n",
    "\n",
    "I = (1.5 + 1.8)*1e-3\n",
    "Vcc = 5*2"
   ]
  },
  {
   "cell_type": "code",
   "execution_count": 14,
   "metadata": {},
   "outputs": [
    {
     "name": "stdout",
     "output_type": "stream",
     "text": [
      "0.7854848484848486\n"
     ]
    }
   ],
   "source": [
    "Pin = Vcc*I\n",
    "Pout = (Vrms**2)/50\n",
    "\n",
    "eta = Pout/Pin*100\n",
    "print(eta)"
   ]
  }
 ],
 "metadata": {
  "kernelspec": {
   "display_name": "sciCal",
   "language": "python",
   "name": "python3"
  },
  "language_info": {
   "codemirror_mode": {
    "name": "ipython",
    "version": 3
   },
   "file_extension": ".py",
   "mimetype": "text/x-python",
   "name": "python",
   "nbconvert_exporter": "python",
   "pygments_lexer": "ipython3",
   "version": "3.12.1"
  }
 },
 "nbformat": 4,
 "nbformat_minor": 2
}
