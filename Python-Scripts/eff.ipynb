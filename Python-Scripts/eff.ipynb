{
 "cells": [
  {
   "cell_type": "code",
   "execution_count": 43,
   "metadata": {},
   "outputs": [],
   "source": [
    "import numpy as np"
   ]
  },
  {
   "cell_type": "code",
   "execution_count": 44,
   "metadata": {},
   "outputs": [],
   "source": [
    "Vp = 1.6\n",
    "Vrms = Vp/(np.sqrt(2))\n",
    "\n",
    "I = (6.6)*1e-3\n",
    "Vcc = 10*2"
   ]
  },
  {
   "cell_type": "code",
   "execution_count": 45,
   "metadata": {},
   "outputs": [
    {
     "name": "stdout",
     "output_type": "stream",
     "text": [
      "19.393939393939394\n"
     ]
    }
   ],
   "source": [
    "Pin = Vcc*I\n",
    "Pout = (Vrms**2)/50\n",
    "\n",
    "eta = Pout/Pin*100\n",
    "print(eta)"
   ]
  }
 ],
 "metadata": {
  "kernelspec": {
   "display_name": "sciCal",
   "language": "python",
   "name": "python3"
  },
  "language_info": {
   "codemirror_mode": {
    "name": "ipython",
    "version": 3
   },
   "file_extension": ".py",
   "mimetype": "text/x-python",
   "name": "python",
   "nbconvert_exporter": "python",
   "pygments_lexer": "ipython3",
   "version": "3.12.1"
  }
 },
 "nbformat": 4,
 "nbformat_minor": 2
}
