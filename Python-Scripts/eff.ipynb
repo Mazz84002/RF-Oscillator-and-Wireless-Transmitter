{
 "cells": [
  {
   "cell_type": "code",
   "execution_count": 7,
   "metadata": {},
   "outputs": [],
   "source": [
    "import numpy as np"
   ]
  },
  {
   "cell_type": "code",
   "execution_count": 8,
   "metadata": {},
   "outputs": [],
   "source": [
    "Vpp = 320e-3\n",
    "Vrms = Vpp/(2*np.sqrt(2))\n",
    "\n",
    "I = (1.180e-3 + 985.2e-6)/4\n",
    "Vcc = 5"
   ]
  },
  {
   "cell_type": "code",
   "execution_count": 9,
   "metadata": {},
   "outputs": [
    {
     "name": "stdout",
     "output_type": "stream",
     "text": [
      "9.458710511731017\n"
     ]
    }
   ],
   "source": [
    "Pin = Vcc*I\n",
    "Pout = (Vrms**2)/50\n",
    "\n",
    "eta = Pout/Pin*100\n",
    "print(eta)"
   ]
  }
 ],
 "metadata": {
  "kernelspec": {
   "display_name": "sciCal",
   "language": "python",
   "name": "python3"
  },
  "language_info": {
   "codemirror_mode": {
    "name": "ipython",
    "version": 3
   },
   "file_extension": ".py",
   "mimetype": "text/x-python",
   "name": "python",
   "nbconvert_exporter": "python",
   "pygments_lexer": "ipython3",
   "version": "3.12.1"
  }
 },
 "nbformat": 4,
 "nbformat_minor": 2
}
